{
 "cells": [
  {
   "cell_type": "markdown",
   "id": "16acfdd9",
   "metadata": {
    "papermill": {
     "duration": 0.014356,
     "end_time": "2023-06-23T12:20:03.958385",
     "exception": false,
     "start_time": "2023-06-23T12:20:03.944029",
     "status": "completed"
    },
    "tags": []
   },
   "source": [
    "![CBR](https://miro.medium.com/v2/resize:fit:1400/1*H_MMnrpLQrqTSJHdDOCMoA.png)"
   ]
  },
  {
   "cell_type": "markdown",
   "id": "a1f0317b",
   "metadata": {
    "papermill": {
     "duration": 0.011499,
     "end_time": "2023-06-23T12:20:03.981897",
     "exception": false,
     "start_time": "2023-06-23T12:20:03.970398",
     "status": "completed"
    },
    "tags": []
   },
   "source": [
    "# What is Content Based Recommendation\n",
    "\n",
    "Content-based recommendation, also known as content-based filtering, is a type of system or algorithm that provides recommendations to a user based on their interests and preferences. Those with such recommendation systems analyze the user's past preferences and likes, and suggest new items based on similar content.\n",
    "\n",
    "Content-based recommendation analyzes the content of items and determines the ones that are suitable for the user based on similarity criteria. For example, when making a movie recommendation, the system can take into account the genres, actors, directors, and other features of the movies the user has liked or watched. Based on this information, the system suggests other movies with similar characteristics.\n",
    "\n",
    "This recommendation system can utilize text analysis, tagging, categorization, or other content features along with the user profile or history to better understand the user's preferences. For instance, when making a music recommendation, the system can analyze features such as genres, instruments, tempo, and rhythm.\n",
    "\n",
    "Content-based recommendation systems can be effective in providing personalized recommendations based on user preferences. The recommended items based on the user's past data can capture their interest and provide a better user experience."
   ]
  },
  {
   "cell_type": "markdown",
   "id": "5d8eed17",
   "metadata": {
    "papermill": {
     "duration": 0.011407,
     "end_time": "2023-06-23T12:20:04.005067",
     "exception": false,
     "start_time": "2023-06-23T12:20:03.993660",
     "status": "completed"
    },
    "tags": []
   },
   "source": [
    "# Business Problem\n",
    "To recommend movies similar to the movies that a person who comes to our site to watch movies."
   ]
  },
  {
   "cell_type": "markdown",
   "id": "52e230f5",
   "metadata": {
    "papermill": {
     "duration": 0.011558,
     "end_time": "2023-06-23T12:20:04.028536",
     "exception": false,
     "start_time": "2023-06-23T12:20:04.016978",
     "status": "completed"
    },
    "tags": []
   },
   "source": [
    "# Road Map\n",
    "\n",
    "- 1. Creating the **TF-IDF Matrix**\n",
    "- 2. Creation of **Cosine Similarity Matrix**\n",
    "- 3. Making Recommendations Based on Similarities\n",
    "- 4. Preparation of the Study Script\n"
   ]
  },
  {
   "cell_type": "code",
   "execution_count": 1,
   "id": "975b9627",
   "metadata": {
    "execution": {
     "iopub.execute_input": "2023-06-23T12:20:04.054372Z",
     "iopub.status.busy": "2023-06-23T12:20:04.053859Z",
     "iopub.status.idle": "2023-06-23T12:20:05.325523Z",
     "shell.execute_reply": "2023-06-23T12:20:05.324608Z"
    },
    "papermill": {
     "duration": 1.28768,
     "end_time": "2023-06-23T12:20:05.328140",
     "exception": false,
     "start_time": "2023-06-23T12:20:04.040460",
     "status": "completed"
    },
    "tags": []
   },
   "outputs": [],
   "source": [
    "# import Required Libraries\n",
    "\n",
    "import pandas as pd\n",
    "import numpy as np\n",
    "\n",
    "from sklearn.feature_extraction.text import TfidfVectorizer\n",
    "from sklearn.metrics.pairwise import cosine_similarity"
   ]
  },
  {
   "cell_type": "code",
   "execution_count": 2,
   "id": "bc85bd38",
   "metadata": {
    "execution": {
     "iopub.execute_input": "2023-06-23T12:20:05.353941Z",
     "iopub.status.busy": "2023-06-23T12:20:05.353578Z",
     "iopub.status.idle": "2023-06-23T12:20:05.358529Z",
     "shell.execute_reply": "2023-06-23T12:20:05.357565Z"
    },
    "papermill": {
     "duration": 0.019966,
     "end_time": "2023-06-23T12:20:05.360632",
     "exception": false,
     "start_time": "2023-06-23T12:20:05.340666",
     "status": "completed"
    },
    "tags": []
   },
   "outputs": [],
   "source": [
    "# Adjusting Row Column Settings\n",
    "\n",
    "pd.set_option('display.max_columns', None)\n",
    "pd.set_option('display.max_rows', None)\n",
    "pd.set_option('display.width', 500)\n",
    "pd.set_option('display.expand_frame_repr', False)"
   ]
  },
  {
   "cell_type": "code",
   "execution_count": 3,
   "id": "19a984dc",
   "metadata": {
    "execution": {
     "iopub.execute_input": "2023-06-23T12:20:05.385271Z",
     "iopub.status.busy": "2023-06-23T12:20:05.384895Z",
     "iopub.status.idle": "2023-06-23T12:20:06.607078Z",
     "shell.execute_reply": "2023-06-23T12:20:06.606008Z"
    },
    "papermill": {
     "duration": 1.237792,
     "end_time": "2023-06-23T12:20:06.609991",
     "exception": false,
     "start_time": "2023-06-23T12:20:05.372199",
     "status": "completed"
    },
    "tags": []
   },
   "outputs": [
    {
     "name": "stderr",
     "output_type": "stream",
     "text": [
      "/tmp/ipykernel_20/3298646675.py:3: DtypeWarning: Columns (10) have mixed types. Specify dtype option on import or set low_memory=False.\n",
      "  df = pd.read_csv(\"/kaggle/input/the-movies-dataset/movies_metadata.csv\")\n"
     ]
    }
   ],
   "source": [
    "# Loading the Data Set\n",
    "\n",
    "df = pd.read_csv(\"/kaggle/input/the-movies-dataset/movies_metadata.csv\")"
   ]
  },
  {
   "cell_type": "code",
   "execution_count": 4,
   "id": "30286563",
   "metadata": {
    "execution": {
     "iopub.execute_input": "2023-06-23T12:20:06.635351Z",
     "iopub.status.busy": "2023-06-23T12:20:06.634260Z",
     "iopub.status.idle": "2023-06-23T12:20:06.978200Z",
     "shell.execute_reply": "2023-06-23T12:20:06.977099Z"
    },
    "papermill": {
     "duration": 0.359123,
     "end_time": "2023-06-23T12:20:06.980792",
     "exception": false,
     "start_time": "2023-06-23T12:20:06.621669",
     "status": "completed"
    },
    "tags": []
   },
   "outputs": [
    {
     "name": "stdout",
     "output_type": "stream",
     "text": [
      "##################### Shape #####################\n",
      "(45466, 24)\n",
      "##################### Types #####################\n",
      "adult                     object\n",
      "belongs_to_collection     object\n",
      "budget                    object\n",
      "genres                    object\n",
      "homepage                  object\n",
      "id                        object\n",
      "imdb_id                   object\n",
      "original_language         object\n",
      "original_title            object\n",
      "overview                  object\n",
      "popularity                object\n",
      "poster_path               object\n",
      "production_companies      object\n",
      "production_countries      object\n",
      "release_date              object\n",
      "revenue                  float64\n",
      "runtime                  float64\n",
      "spoken_languages          object\n",
      "status                    object\n",
      "tagline                   object\n",
      "title                     object\n",
      "video                     object\n",
      "vote_average             float64\n",
      "vote_count               float64\n",
      "dtype: object\n",
      "##################### Head #####################\n",
      "   adult                              belongs_to_collection    budget                                             genres                              homepage     id    imdb_id original_language               original_title                                           overview popularity                       poster_path                               production_companies                               production_countries release_date      revenue  runtime                                   spoken_languages    status                                            tagline                        title  video  vote_average  vote_count\n",
      "0  False  {'id': 10194, 'name': 'Toy Story Collection', ...  30000000  [{'id': 16, 'name': 'Animation'}, {'id': 35, '...  http://toystory.disney.com/toy-story    862  tt0114709                en                    Toy Story  Led by Woody, Andy's toys live happily in his ...  21.946943  /rhIRbceoE9lR4veEXuwCC2wARtG.jpg     [{'name': 'Pixar Animation Studios', 'id': 3}]  [{'iso_3166_1': 'US', 'name': 'United States o...   1995-10-30  373554033.0     81.0           [{'iso_639_1': 'en', 'name': 'English'}]  Released                                                NaN                    Toy Story  False           7.7      5415.0\n",
      "1  False                                                NaN  65000000  [{'id': 12, 'name': 'Adventure'}, {'id': 14, '...                                   NaN   8844  tt0113497                en                      Jumanji  When siblings Judy and Peter discover an encha...  17.015539  /vzmL6fP7aPKNKPRTFnZmiUfciyV.jpg  [{'name': 'TriStar Pictures', 'id': 559}, {'na...  [{'iso_3166_1': 'US', 'name': 'United States o...   1995-12-15  262797249.0    104.0  [{'iso_639_1': 'en', 'name': 'English'}, {'iso...  Released          Roll the dice and unleash the excitement!                      Jumanji  False           6.9      2413.0\n",
      "2  False  {'id': 119050, 'name': 'Grumpy Old Men Collect...         0  [{'id': 10749, 'name': 'Romance'}, {'id': 35, ...                                   NaN  15602  tt0113228                en             Grumpier Old Men  A family wedding reignites the ancient feud be...    11.7129  /6ksm1sjKMFLbO7UY2i6G1ju9SML.jpg  [{'name': 'Warner Bros.', 'id': 6194}, {'name'...  [{'iso_3166_1': 'US', 'name': 'United States o...   1995-12-22          0.0    101.0           [{'iso_639_1': 'en', 'name': 'English'}]  Released  Still Yelling. Still Fighting. Still Ready for...             Grumpier Old Men  False           6.5        92.0\n",
      "3  False                                                NaN  16000000  [{'id': 35, 'name': 'Comedy'}, {'id': 18, 'nam...                                   NaN  31357  tt0114885                en            Waiting to Exhale  Cheated on, mistreated and stepped on, the wom...   3.859495  /16XOMpEaLWkrcPqSQqhTmeJuqQl.jpg  [{'name': 'Twentieth Century Fox Film Corporat...  [{'iso_3166_1': 'US', 'name': 'United States o...   1995-12-22   81452156.0    127.0           [{'iso_639_1': 'en', 'name': 'English'}]  Released  Friends are the people who let you be yourself...            Waiting to Exhale  False           6.1        34.0\n",
      "4  False  {'id': 96871, 'name': 'Father of the Bride Col...         0                     [{'id': 35, 'name': 'Comedy'}]                                   NaN  11862  tt0113041                en  Father of the Bride Part II  Just when George Banks has recovered from his ...   8.387519  /e64sOI48hQXyru7naBFyssKFxVd.jpg  [{'name': 'Sandollar Productions', 'id': 5842}...  [{'iso_3166_1': 'US', 'name': 'United States o...   1995-02-10   76578911.0    106.0           [{'iso_639_1': 'en', 'name': 'English'}]  Released  Just When His World Is Back To Normal... He's ...  Father of the Bride Part II  False           5.7       173.0\n",
      "##################### Tail #####################\n",
      "       adult belongs_to_collection budget                                             genres                              homepage      id    imdb_id original_language       original_title                                           overview popularity                       poster_path                               production_companies                               production_countries release_date  revenue  runtime                          spoken_languages    status                                     tagline                title  video  vote_average  vote_count\n",
      "45461  False                   NaN      0  [{'id': 18, 'name': 'Drama'}, {'id': 10751, 'n...  http://www.imdb.com/title/tt6209470/  439050  tt6209470                fa              رگ خواب        Rising and falling between a man and woman.   0.072051  /jldsYflnId4tTWPx8es3uzsB1I8.jpg                                                 []             [{'iso_3166_1': 'IR', 'name': 'Iran'}]          NaN      0.0     90.0    [{'iso_639_1': 'fa', 'name': 'فارسی'}]  Released  Rising and falling between a man and woman               Subdue  False           4.0         1.0\n",
      "45462  False                   NaN      0                      [{'id': 18, 'name': 'Drama'}]                                   NaN  111109  tt2028550                tl  Siglo ng Pagluluwal  An artist struggles to finish his work while a...   0.178241  /xZkmxsNmYXJbKVsTRLLx3pqGHx7.jpg             [{'name': 'Sine Olivia', 'id': 19653}]      [{'iso_3166_1': 'PH', 'name': 'Philippines'}]   2011-11-17      0.0    360.0         [{'iso_639_1': 'tl', 'name': ''}]  Released                                         NaN  Century of Birthing  False           9.0         3.0\n",
      "45463  False                   NaN      0  [{'id': 28, 'name': 'Action'}, {'id': 18, 'nam...                                   NaN   67758  tt0303758                en             Betrayal  When one of her hits goes wrong, a professiona...   0.903007  /d5bX92nDsISNhu3ZT69uHwmfCGw.jpg  [{'name': 'American World Pictures', 'id': 6165}]  [{'iso_3166_1': 'US', 'name': 'United States o...   2003-08-01      0.0     90.0  [{'iso_639_1': 'en', 'name': 'English'}]  Released                      A deadly game of wits.             Betrayal  False           3.8         6.0\n",
      "45464  False                   NaN      0                                                 []                                   NaN  227506  tt0008536                en  Satana likuyushchiy  In a small town live two brothers, one a minis...   0.003503  /aorBPO7ak8e8iJKT5OcqYxU3jlK.jpg               [{'name': 'Yermoliev', 'id': 88753}]           [{'iso_3166_1': 'RU', 'name': 'Russia'}]   1917-10-21      0.0     87.0                                        []  Released                                         NaN     Satan Triumphant  False           0.0         0.0\n",
      "45465  False                   NaN      0                                                 []                                   NaN  461257  tt6980792                en             Queerama  50 years after decriminalisation of homosexual...   0.163015  /s5UkZt6NTsrS7ZF0Rh8nzupRlIU.jpg                                                 []   [{'iso_3166_1': 'GB', 'name': 'United Kingdom'}]   2017-06-09      0.0     75.0  [{'iso_639_1': 'en', 'name': 'English'}]  Released                                         NaN             Queerama  False           0.0         0.0\n",
      "##################### NA #####################\n",
      "adult                        0\n",
      "belongs_to_collection    40972\n",
      "budget                       0\n",
      "genres                       0\n",
      "homepage                 37684\n",
      "id                           0\n",
      "imdb_id                     17\n",
      "original_language           11\n",
      "original_title               0\n",
      "overview                   954\n",
      "popularity                   5\n",
      "poster_path                386\n",
      "production_companies         3\n",
      "production_countries         3\n",
      "release_date                87\n",
      "revenue                      6\n",
      "runtime                    263\n",
      "spoken_languages             6\n",
      "status                      87\n",
      "tagline                  25054\n",
      "title                        6\n",
      "video                        6\n",
      "vote_average                 6\n",
      "vote_count                   6\n",
      "dtype: int64\n",
      "##################### Quantiles #####################\n",
      "                count          mean           std  min   0%    5%   50%           95%           99%          100%           max\n",
      "revenue       45460.0  1.120935e+07  6.433225e+07  0.0  0.0   0.0   0.0  4.780892e+07  2.730876e+08  2.787965e+09  2.787965e+09\n",
      "runtime       45203.0  9.412820e+01  3.840781e+01  0.0  0.0  11.0  95.0  1.380000e+02  1.850000e+02  1.256000e+03  1.256000e+03\n",
      "vote_average  45460.0  5.618207e+00  1.924216e+00  0.0  0.0   0.0   6.0  7.800000e+00  8.700000e+00  1.000000e+01  1.000000e+01\n",
      "vote_count    45460.0  1.098973e+02  4.913104e+02  0.0  0.0   0.0  10.0  4.340000e+02  2.183820e+03  1.407500e+04  1.407500e+04\n"
     ]
    }
   ],
   "source": [
    "# Preliminary examination of the data set\n",
    "\n",
    "def check_df(dataframe, head=5):\n",
    "    print('##################### Shape #####################')\n",
    "    print(dataframe.shape)\n",
    "    print('##################### Types #####################')\n",
    "    print(dataframe.dtypes)\n",
    "    print('##################### Head #####################')\n",
    "    print(dataframe.head(head))\n",
    "    print('##################### Tail #####################')\n",
    "    print(dataframe.tail(head))\n",
    "    print('##################### NA #####################')\n",
    "    print(dataframe.isnull().sum())\n",
    "    print('##################### Quantiles #####################')\n",
    "    print(dataframe.describe([0, 0.05, 0.50, 0.95, 0.99, 1]).T)\n",
    "\n",
    "check_df(df)"
   ]
  },
  {
   "cell_type": "markdown",
   "id": "d10964f0",
   "metadata": {
    "papermill": {
     "duration": 0.012481,
     "end_time": "2023-06-23T12:20:07.005630",
     "exception": false,
     "start_time": "2023-06-23T12:20:06.993149",
     "status": "completed"
    },
    "tags": []
   },
   "source": [
    "# 1. Creating the TF-IDF Matrix"
   ]
  },
  {
   "cell_type": "code",
   "execution_count": 5,
   "id": "56a959b2",
   "metadata": {
    "execution": {
     "iopub.execute_input": "2023-06-23T12:20:07.032569Z",
     "iopub.status.busy": "2023-06-23T12:20:07.031529Z",
     "iopub.status.idle": "2023-06-23T12:20:07.040801Z",
     "shell.execute_reply": "2023-06-23T12:20:07.039821Z"
    },
    "papermill": {
     "duration": 0.02475,
     "end_time": "2023-06-23T12:20:07.042891",
     "exception": false,
     "start_time": "2023-06-23T12:20:07.018141",
     "status": "completed"
    },
    "tags": []
   },
   "outputs": [
    {
     "data": {
      "text/plain": [
       "0    Led by Woody, Andy's toys live happily in his ...\n",
       "1    When siblings Judy and Peter discover an encha...\n",
       "2    A family wedding reignites the ancient feud be...\n",
       "3    Cheated on, mistreated and stepped on, the wom...\n",
       "4    Just when George Banks has recovered from his ...\n",
       "Name: overview, dtype: object"
      ]
     },
     "execution_count": 5,
     "metadata": {},
     "output_type": "execute_result"
    }
   ],
   "source": [
    "df[\"overview\"].head()"
   ]
  },
  {
   "cell_type": "code",
   "execution_count": 6,
   "id": "02f035c0",
   "metadata": {
    "execution": {
     "iopub.execute_input": "2023-06-23T12:20:07.068750Z",
     "iopub.status.busy": "2023-06-23T12:20:07.068133Z",
     "iopub.status.idle": "2023-06-23T12:20:07.081803Z",
     "shell.execute_reply": "2023-06-23T12:20:07.081026Z"
    },
    "papermill": {
     "duration": 0.02903,
     "end_time": "2023-06-23T12:20:07.083947",
     "exception": false,
     "start_time": "2023-06-23T12:20:07.054917",
     "status": "completed"
    },
    "tags": []
   },
   "outputs": [
    {
     "data": {
      "text/plain": [
       "954"
      ]
     },
     "execution_count": 6,
     "metadata": {},
     "output_type": "execute_result"
    }
   ],
   "source": [
    "df[\"overview\"].isnull().sum()"
   ]
  },
  {
   "cell_type": "code",
   "execution_count": 7,
   "id": "b8e911ad",
   "metadata": {
    "execution": {
     "iopub.execute_input": "2023-06-23T12:20:07.110173Z",
     "iopub.status.busy": "2023-06-23T12:20:07.109825Z",
     "iopub.status.idle": "2023-06-23T12:20:07.114340Z",
     "shell.execute_reply": "2023-06-23T12:20:07.113379Z"
    },
    "papermill": {
     "duration": 0.020221,
     "end_time": "2023-06-23T12:20:07.116357",
     "exception": false,
     "start_time": "2023-06-23T12:20:07.096136",
     "status": "completed"
    },
    "tags": []
   },
   "outputs": [],
   "source": [
    "# Let's remove the constructs like a, an, the, and, but that don't make sense for us from our DataFrames.\n",
    "\n",
    "tfidf = TfidfVectorizer(stop_words=\"english\")"
   ]
  },
  {
   "cell_type": "code",
   "execution_count": 8,
   "id": "c2f7ed36",
   "metadata": {
    "execution": {
     "iopub.execute_input": "2023-06-23T12:20:07.144025Z",
     "iopub.status.busy": "2023-06-23T12:20:07.143015Z",
     "iopub.status.idle": "2023-06-23T12:20:07.164073Z",
     "shell.execute_reply": "2023-06-23T12:20:07.163285Z"
    },
    "papermill": {
     "duration": 0.037293,
     "end_time": "2023-06-23T12:20:07.166294",
     "exception": false,
     "start_time": "2023-06-23T12:20:07.129001",
     "status": "completed"
    },
    "tags": []
   },
   "outputs": [],
   "source": [
    "# fill the null value in the cin overviev variable with nothing to avoid errors in the following steps\n",
    "\n",
    "df['overview'] = df['overview'].fillna('')"
   ]
  },
  {
   "cell_type": "code",
   "execution_count": 9,
   "id": "6c683817",
   "metadata": {
    "execution": {
     "iopub.execute_input": "2023-06-23T12:20:07.192424Z",
     "iopub.status.busy": "2023-06-23T12:20:07.191827Z",
     "iopub.status.idle": "2023-06-23T12:20:07.205343Z",
     "shell.execute_reply": "2023-06-23T12:20:07.204328Z"
    },
    "papermill": {
     "duration": 0.028975,
     "end_time": "2023-06-23T12:20:07.207473",
     "exception": false,
     "start_time": "2023-06-23T12:20:07.178498",
     "status": "completed"
    },
    "tags": []
   },
   "outputs": [
    {
     "data": {
      "text/plain": [
       "0"
      ]
     },
     "execution_count": 9,
     "metadata": {},
     "output_type": "execute_result"
    }
   ],
   "source": [
    "df[\"overview\"].isnull().sum()"
   ]
  },
  {
   "cell_type": "code",
   "execution_count": 10,
   "id": "77017b05",
   "metadata": {
    "execution": {
     "iopub.execute_input": "2023-06-23T12:20:07.233338Z",
     "iopub.status.busy": "2023-06-23T12:20:07.233039Z",
     "iopub.status.idle": "2023-06-23T12:20:10.389450Z",
     "shell.execute_reply": "2023-06-23T12:20:10.388456Z"
    },
    "papermill": {
     "duration": 3.172607,
     "end_time": "2023-06-23T12:20:10.392305",
     "exception": false,
     "start_time": "2023-06-23T12:20:07.219698",
     "status": "completed"
    },
    "tags": []
   },
   "outputs": [],
   "source": [
    "# fit and transform according to the tfidf object\n",
    "# Those in rows are texts 'overview'. Those in columns are unique words.\n",
    "\n",
    "tfidf_matrix = tfidf.fit_transform(df['overview'])"
   ]
  },
  {
   "cell_type": "code",
   "execution_count": 11,
   "id": "ab544607",
   "metadata": {
    "execution": {
     "iopub.execute_input": "2023-06-23T12:20:10.419572Z",
     "iopub.status.busy": "2023-06-23T12:20:10.419229Z",
     "iopub.status.idle": "2023-06-23T12:20:10.425728Z",
     "shell.execute_reply": "2023-06-23T12:20:10.424480Z"
    },
    "papermill": {
     "duration": 0.022593,
     "end_time": "2023-06-23T12:20:10.427963",
     "exception": false,
     "start_time": "2023-06-23T12:20:10.405370",
     "status": "completed"
    },
    "tags": []
   },
   "outputs": [
    {
     "data": {
      "text/plain": [
       "(45466, 75827)"
      ]
     },
     "execution_count": 11,
     "metadata": {},
     "output_type": "execute_result"
    }
   ],
   "source": [
    "tfidf_matrix.shape"
   ]
  },
  {
   "cell_type": "code",
   "execution_count": 12,
   "id": "d39d8c6f",
   "metadata": {
    "execution": {
     "iopub.execute_input": "2023-06-23T12:20:10.454497Z",
     "iopub.status.busy": "2023-06-23T12:20:10.453857Z",
     "iopub.status.idle": "2023-06-23T12:20:10.458066Z",
     "shell.execute_reply": "2023-06-23T12:20:10.457177Z"
    },
    "papermill": {
     "duration": 0.019741,
     "end_time": "2023-06-23T12:20:10.460117",
     "exception": false,
     "start_time": "2023-06-23T12:20:10.440376",
     "status": "completed"
    },
    "tags": []
   },
   "outputs": [],
   "source": [
    "#If we want to see all the unique words in the columns\n",
    "\n",
    "#tfidf.get_feature_names()\n"
   ]
  },
  {
   "cell_type": "code",
   "execution_count": 13,
   "id": "56b23969",
   "metadata": {
    "execution": {
     "iopub.execute_input": "2023-06-23T12:20:10.486329Z",
     "iopub.status.busy": "2023-06-23T12:20:10.485792Z",
     "iopub.status.idle": "2023-06-23T12:20:16.975128Z",
     "shell.execute_reply": "2023-06-23T12:20:16.974027Z"
    },
    "papermill": {
     "duration": 6.504952,
     "end_time": "2023-06-23T12:20:16.977359",
     "exception": false,
     "start_time": "2023-06-23T12:20:10.472407",
     "status": "completed"
    },
    "tags": []
   },
   "outputs": [
    {
     "data": {
      "text/plain": [
       "array([[0., 0., 0., ..., 0., 0., 0.],\n",
       "       [0., 0., 0., ..., 0., 0., 0.],\n",
       "       [0., 0., 0., ..., 0., 0., 0.],\n",
       "       ...,\n",
       "       [0., 0., 0., ..., 0., 0., 0.],\n",
       "       [0., 0., 0., ..., 0., 0., 0.],\n",
       "       [0., 0., 0., ..., 0., 0., 0.]])"
      ]
     },
     "execution_count": 13,
     "metadata": {},
     "output_type": "execute_result"
    }
   ],
   "source": [
    "# tfidf scores\n",
    "\n",
    "tfidf_matrix.toarray()"
   ]
  },
  {
   "cell_type": "markdown",
   "id": "779184bc",
   "metadata": {
    "papermill": {
     "duration": 0.012147,
     "end_time": "2023-06-23T12:20:17.001994",
     "exception": false,
     "start_time": "2023-06-23T12:20:16.989847",
     "status": "completed"
    },
    "tags": []
   },
   "source": [
    "# 2. Creation of Cosine Similarity Matrix"
   ]
  },
  {
   "cell_type": "code",
   "execution_count": 14,
   "id": "38f15dd0",
   "metadata": {
    "execution": {
     "iopub.execute_input": "2023-06-23T12:20:17.028749Z",
     "iopub.status.busy": "2023-06-23T12:20:17.028369Z",
     "iopub.status.idle": "2023-06-23T12:20:56.271626Z",
     "shell.execute_reply": "2023-06-23T12:20:56.270430Z"
    },
    "papermill": {
     "duration": 39.260363,
     "end_time": "2023-06-23T12:20:56.274608",
     "exception": false,
     "start_time": "2023-06-23T12:20:17.014245",
     "status": "completed"
    },
    "tags": []
   },
   "outputs": [],
   "source": [
    "# Calculates cos sim for all possible document pairs one by one. In the cosine_sim matrix, each movie has similarities with each other\n",
    "\n",
    "cosine_sim = cosine_similarity(tfidf_matrix, tfidf_matrix)"
   ]
  },
  {
   "cell_type": "code",
   "execution_count": 15,
   "id": "3093f214",
   "metadata": {
    "execution": {
     "iopub.execute_input": "2023-06-23T12:20:56.303319Z",
     "iopub.status.busy": "2023-06-23T12:20:56.302927Z",
     "iopub.status.idle": "2023-06-23T12:20:56.309137Z",
     "shell.execute_reply": "2023-06-23T12:20:56.308140Z"
    },
    "papermill": {
     "duration": 0.022951,
     "end_time": "2023-06-23T12:20:56.311183",
     "exception": false,
     "start_time": "2023-06-23T12:20:56.288232",
     "status": "completed"
    },
    "tags": []
   },
   "outputs": [
    {
     "data": {
      "text/plain": [
       "(45466, 45466)"
      ]
     },
     "execution_count": 15,
     "metadata": {},
     "output_type": "execute_result"
    }
   ],
   "source": [
    "cosine_sim.shape"
   ]
  },
  {
   "cell_type": "code",
   "execution_count": 16,
   "id": "8212c4ea",
   "metadata": {
    "execution": {
     "iopub.execute_input": "2023-06-23T12:20:56.339299Z",
     "iopub.status.busy": "2023-06-23T12:20:56.338540Z",
     "iopub.status.idle": "2023-06-23T12:20:56.344993Z",
     "shell.execute_reply": "2023-06-23T12:20:56.344279Z"
    },
    "papermill": {
     "duration": 0.022737,
     "end_time": "2023-06-23T12:20:56.346961",
     "exception": false,
     "start_time": "2023-06-23T12:20:56.324224",
     "status": "completed"
    },
    "tags": []
   },
   "outputs": [
    {
     "data": {
      "text/plain": [
       "array([0.01504121, 1.        , 0.04681953, ..., 0.        , 0.02198641,\n",
       "       0.00929411])"
      ]
     },
     "execution_count": 16,
     "metadata": {},
     "output_type": "execute_result"
    }
   ],
   "source": [
    "# To see how the movie in index 1 is similar to all the other movies\n",
    "\n",
    "cosine_sim[1]"
   ]
  },
  {
   "cell_type": "markdown",
   "id": "46b43a3c",
   "metadata": {
    "papermill": {
     "duration": 0.01274,
     "end_time": "2023-06-23T12:20:56.372782",
     "exception": false,
     "start_time": "2023-06-23T12:20:56.360042",
     "status": "completed"
    },
    "tags": []
   },
   "source": [
    "# 3. Making Recommendations Based on Similarities"
   ]
  },
  {
   "cell_type": "code",
   "execution_count": 17,
   "id": "3598baa6",
   "metadata": {
    "execution": {
     "iopub.execute_input": "2023-06-23T12:20:56.400485Z",
     "iopub.status.busy": "2023-06-23T12:20:56.400074Z",
     "iopub.status.idle": "2023-06-23T12:20:56.405714Z",
     "shell.execute_reply": "2023-06-23T12:20:56.404708Z"
    },
    "papermill": {
     "duration": 0.021848,
     "end_time": "2023-06-23T12:20:56.407936",
     "exception": false,
     "start_time": "2023-06-23T12:20:56.386088",
     "status": "completed"
    },
    "tags": []
   },
   "outputs": [],
   "source": [
    "# Let's create a pd series of indexes and movie names\n",
    "\n",
    "indices = pd.Series(df.index, index=df['title'])"
   ]
  },
  {
   "cell_type": "code",
   "execution_count": 18,
   "id": "1e452274",
   "metadata": {
    "execution": {
     "iopub.execute_input": "2023-06-23T12:20:56.435480Z",
     "iopub.status.busy": "2023-06-23T12:20:56.434772Z",
     "iopub.status.idle": "2023-06-23T12:20:56.468038Z",
     "shell.execute_reply": "2023-06-23T12:20:56.467005Z"
    },
    "papermill": {
     "duration": 0.049276,
     "end_time": "2023-06-23T12:20:56.470143",
     "exception": false,
     "start_time": "2023-06-23T12:20:56.420867",
     "status": "completed"
    },
    "tags": []
   },
   "outputs": [
    {
     "data": {
      "text/plain": [
       "Cinderella              11\n",
       "Hamlet                   9\n",
       "Alice in Wonderland      9\n",
       "Beauty and the Beast     8\n",
       "Les Misérables           8\n",
       "Name: title, dtype: int64"
      ]
     },
     "execution_count": 18,
     "metadata": {},
     "output_type": "execute_result"
    }
   ],
   "source": [
    "# let's count the index information of the movies and simplify the most repetitive movies to the most recent ones\n",
    "\n",
    "indices.index.value_counts().head()"
   ]
  },
  {
   "cell_type": "code",
   "execution_count": 19,
   "id": "f6393f00",
   "metadata": {
    "execution": {
     "iopub.execute_input": "2023-06-23T12:20:56.498436Z",
     "iopub.status.busy": "2023-06-23T12:20:56.497787Z",
     "iopub.status.idle": "2023-06-23T12:20:56.512854Z",
     "shell.execute_reply": "2023-06-23T12:20:56.512156Z"
    },
    "papermill": {
     "duration": 0.031239,
     "end_time": "2023-06-23T12:20:56.514791",
     "exception": false,
     "start_time": "2023-06-23T12:20:56.483552",
     "status": "completed"
    },
    "tags": []
   },
   "outputs": [],
   "source": [
    "indices = indices[~indices.index.duplicated(keep='last')]"
   ]
  },
  {
   "cell_type": "code",
   "execution_count": 20,
   "id": "2d743c94",
   "metadata": {
    "execution": {
     "iopub.execute_input": "2023-06-23T12:20:56.542904Z",
     "iopub.status.busy": "2023-06-23T12:20:56.542276Z",
     "iopub.status.idle": "2023-06-23T12:20:56.552844Z",
     "shell.execute_reply": "2023-06-23T12:20:56.551998Z"
    },
    "papermill": {
     "duration": 0.026756,
     "end_time": "2023-06-23T12:20:56.554743",
     "exception": false,
     "start_time": "2023-06-23T12:20:56.527987",
     "status": "completed"
    },
    "tags": []
   },
   "outputs": [
    {
     "data": {
      "text/plain": [
       "45406"
      ]
     },
     "execution_count": 20,
     "metadata": {},
     "output_type": "execute_result"
    }
   ],
   "source": [
    "indices[\"Cinderella\"]"
   ]
  },
  {
   "cell_type": "code",
   "execution_count": 21,
   "id": "64393ec6",
   "metadata": {
    "execution": {
     "iopub.execute_input": "2023-06-23T12:20:56.582576Z",
     "iopub.status.busy": "2023-06-23T12:20:56.581992Z",
     "iopub.status.idle": "2023-06-23T12:20:56.587061Z",
     "shell.execute_reply": "2023-06-23T12:20:56.586441Z"
    },
    "papermill": {
     "duration": 0.021141,
     "end_time": "2023-06-23T12:20:56.588907",
     "exception": false,
     "start_time": "2023-06-23T12:20:56.567766",
     "status": "completed"
    },
    "tags": []
   },
   "outputs": [
    {
     "data": {
      "text/plain": [
       "35116"
      ]
     },
     "execution_count": 21,
     "metadata": {},
     "output_type": "execute_result"
    }
   ],
   "source": [
    "indices[\"Sherlock Holmes\"]"
   ]
  },
  {
   "cell_type": "code",
   "execution_count": 22,
   "id": "a9900d8b",
   "metadata": {
    "execution": {
     "iopub.execute_input": "2023-06-23T12:20:56.616865Z",
     "iopub.status.busy": "2023-06-23T12:20:56.616264Z",
     "iopub.status.idle": "2023-06-23T12:20:56.620303Z",
     "shell.execute_reply": "2023-06-23T12:20:56.619407Z"
    },
    "papermill": {
     "duration": 0.020487,
     "end_time": "2023-06-23T12:20:56.622249",
     "exception": false,
     "start_time": "2023-06-23T12:20:56.601762",
     "status": "completed"
    },
    "tags": []
   },
   "outputs": [],
   "source": [
    "# I assign the index of the movie 'Sherlock Holmes' to the variable\n",
    "\n",
    "movie_index = indices['Sherlock Holmes']"
   ]
  },
  {
   "cell_type": "code",
   "execution_count": 23,
   "id": "e050e779",
   "metadata": {
    "execution": {
     "iopub.execute_input": "2023-06-23T12:20:56.651050Z",
     "iopub.status.busy": "2023-06-23T12:20:56.650448Z",
     "iopub.status.idle": "2023-06-23T12:20:56.656507Z",
     "shell.execute_reply": "2023-06-23T12:20:56.655541Z"
    },
    "papermill": {
     "duration": 0.022679,
     "end_time": "2023-06-23T12:20:56.658614",
     "exception": false,
     "start_time": "2023-06-23T12:20:56.635935",
     "status": "completed"
    },
    "tags": []
   },
   "outputs": [
    {
     "data": {
      "text/plain": [
       "array([0.        , 0.00392837, 0.00476764, ..., 0.        , 0.0067919 ,\n",
       "       0.        ])"
      ]
     },
     "execution_count": 23,
     "metadata": {},
     "output_type": "execute_result"
    }
   ],
   "source": [
    "cosine_sim[movie_index]"
   ]
  },
  {
   "cell_type": "code",
   "execution_count": 24,
   "id": "978a103d",
   "metadata": {
    "execution": {
     "iopub.execute_input": "2023-06-23T12:20:56.687365Z",
     "iopub.status.busy": "2023-06-23T12:20:56.686970Z",
     "iopub.status.idle": "2023-06-23T12:20:56.692552Z",
     "shell.execute_reply": "2023-06-23T12:20:56.691511Z"
    },
    "papermill": {
     "duration": 0.022654,
     "end_time": "2023-06-23T12:20:56.694776",
     "exception": false,
     "start_time": "2023-06-23T12:20:56.672122",
     "status": "completed"
    },
    "tags": []
   },
   "outputs": [],
   "source": [
    "# Let's see the Smilarity Scores that express the similarities between the movie 'Sherlock Holmes' and other movies\n",
    "\n",
    "\n",
    "similarity_scores = pd.DataFrame(cosine_sim[movie_index],\n",
    "                                 columns=[\"score\"])"
   ]
  },
  {
   "cell_type": "code",
   "execution_count": 25,
   "id": "bd471aa9",
   "metadata": {
    "execution": {
     "iopub.execute_input": "2023-06-23T12:20:56.723678Z",
     "iopub.status.busy": "2023-06-23T12:20:56.723329Z",
     "iopub.status.idle": "2023-06-23T12:20:56.738157Z",
     "shell.execute_reply": "2023-06-23T12:20:56.737037Z"
    },
    "papermill": {
     "duration": 0.031822,
     "end_time": "2023-06-23T12:20:56.740296",
     "exception": false,
     "start_time": "2023-06-23T12:20:56.708474",
     "status": "completed"
    },
    "tags": []
   },
   "outputs": [
    {
     "data": {
      "text/html": [
       "<div>\n",
       "<style scoped>\n",
       "    .dataframe tbody tr th:only-of-type {\n",
       "        vertical-align: middle;\n",
       "    }\n",
       "\n",
       "    .dataframe tbody tr th {\n",
       "        vertical-align: top;\n",
       "    }\n",
       "\n",
       "    .dataframe thead th {\n",
       "        text-align: right;\n",
       "    }\n",
       "</style>\n",
       "<table border=\"1\" class=\"dataframe\">\n",
       "  <thead>\n",
       "    <tr style=\"text-align: right;\">\n",
       "      <th></th>\n",
       "      <th>score</th>\n",
       "    </tr>\n",
       "  </thead>\n",
       "  <tbody>\n",
       "    <tr>\n",
       "      <th>0</th>\n",
       "      <td>0.000000</td>\n",
       "    </tr>\n",
       "    <tr>\n",
       "      <th>1</th>\n",
       "      <td>0.003928</td>\n",
       "    </tr>\n",
       "    <tr>\n",
       "      <th>2</th>\n",
       "      <td>0.004768</td>\n",
       "    </tr>\n",
       "    <tr>\n",
       "      <th>3</th>\n",
       "      <td>0.000000</td>\n",
       "    </tr>\n",
       "    <tr>\n",
       "      <th>4</th>\n",
       "      <td>0.000000</td>\n",
       "    </tr>\n",
       "  </tbody>\n",
       "</table>\n",
       "</div>"
      ],
      "text/plain": [
       "      score\n",
       "0  0.000000\n",
       "1  0.003928\n",
       "2  0.004768\n",
       "3  0.000000\n",
       "4  0.000000"
      ]
     },
     "execution_count": 25,
     "metadata": {},
     "output_type": "execute_result"
    }
   ],
   "source": [
    "# The similarities between the movie 'Sherlock Holmes' and all other movies\n",
    "\n",
    "similarity_scores.head()"
   ]
  },
  {
   "cell_type": "code",
   "execution_count": 26,
   "id": "d74b3496",
   "metadata": {
    "execution": {
     "iopub.execute_input": "2023-06-23T12:20:56.769572Z",
     "iopub.status.busy": "2023-06-23T12:20:56.768847Z",
     "iopub.status.idle": "2023-06-23T12:20:56.779108Z",
     "shell.execute_reply": "2023-06-23T12:20:56.778370Z"
    },
    "papermill": {
     "duration": 0.027259,
     "end_time": "2023-06-23T12:20:56.781232",
     "exception": false,
     "start_time": "2023-06-23T12:20:56.753973",
     "status": "completed"
    },
    "tags": []
   },
   "outputs": [],
   "source": [
    "# Let's list the similarity scores of the movie 'Sherlock Holmes' in descending order. It starts at 1 because it's the first movie.\n",
    "\n",
    "movie_indices = similarity_scores.sort_values(\"score\", ascending=False)[1:11].index"
   ]
  },
  {
   "cell_type": "code",
   "execution_count": 27,
   "id": "f157fd0e",
   "metadata": {
    "execution": {
     "iopub.execute_input": "2023-06-23T12:20:56.810487Z",
     "iopub.status.busy": "2023-06-23T12:20:56.809780Z",
     "iopub.status.idle": "2023-06-23T12:20:56.817929Z",
     "shell.execute_reply": "2023-06-23T12:20:56.816718Z"
    },
    "papermill": {
     "duration": 0.025301,
     "end_time": "2023-06-23T12:20:56.820108",
     "exception": false,
     "start_time": "2023-06-23T12:20:56.794807",
     "status": "completed"
    },
    "tags": []
   },
   "outputs": [
    {
     "data": {
      "text/plain": [
       "34737    Приключения Шерлока Холмса и доктора Ватсона: ...\n",
       "14821                                    The Royal Scandal\n",
       "34750    The Adventures of Sherlock Holmes and Doctor W...\n",
       "9743                           The Seven-Per-Cent Solution\n",
       "4434                                        Without a Clue\n",
       "29706                       How Sherlock Changed the World\n",
       "18258                   Sherlock Holmes: A Game of Shadows\n",
       "24665     The Sign of Four: Sherlock Holmes' Greatest Case\n",
       "6432                   The Private Life of Sherlock Holmes\n",
       "29154                          Sherlock Holmes in New York\n",
       "Name: title, dtype: object"
      ]
     },
     "execution_count": 27,
     "metadata": {},
     "output_type": "execute_result"
    }
   ],
   "source": [
    "# Go to the indexes we selected in our first data set\n",
    "\n",
    "df['title'].iloc[movie_indices]"
   ]
  },
  {
   "cell_type": "markdown",
   "id": "22576174",
   "metadata": {
    "papermill": {
     "duration": 0.014147,
     "end_time": "2023-06-23T12:20:56.847845",
     "exception": false,
     "start_time": "2023-06-23T12:20:56.833698",
     "status": "completed"
    },
    "tags": []
   },
   "source": [
    "# 4. Preparation of the Study Script"
   ]
  },
  {
   "cell_type": "code",
   "execution_count": 28,
   "id": "b552f028",
   "metadata": {
    "execution": {
     "iopub.execute_input": "2023-06-23T12:20:56.877457Z",
     "iopub.status.busy": "2023-06-23T12:20:56.877058Z",
     "iopub.status.idle": "2023-06-23T12:20:56.883517Z",
     "shell.execute_reply": "2023-06-23T12:20:56.882555Z"
    },
    "papermill": {
     "duration": 0.023741,
     "end_time": "2023-06-23T12:20:56.885625",
     "exception": false,
     "start_time": "2023-06-23T12:20:56.861884",
     "status": "completed"
    },
    "tags": []
   },
   "outputs": [],
   "source": [
    "def content_based_recommender(title, cosine_sim, dataframe):\n",
    "    # create indexes\n",
    "    indices = pd.Series(dataframe.index, index=dataframe['title'])\n",
    "    indices = indices[~indices.index.duplicated(keep='last')]\n",
    "    # capturing index of title\n",
    "    movie_index = indices[title]\n",
    "    # calculate similarity scores based on title\n",
    "    similarity_scores = pd.DataFrame(cosine_sim[movie_index], columns=[\"score\"])\n",
    "    # Bringing the top 10 movies except for itself\n",
    "    movie_indices = similarity_scores.sort_values(\"score\", ascending=False)[1:11].index\n",
    "    return dataframe['title'].iloc[movie_indices]"
   ]
  },
  {
   "cell_type": "code",
   "execution_count": 29,
   "id": "0ca8974e",
   "metadata": {
    "execution": {
     "iopub.execute_input": "2023-06-23T12:20:56.913875Z",
     "iopub.status.busy": "2023-06-23T12:20:56.913578Z",
     "iopub.status.idle": "2023-06-23T12:20:56.939787Z",
     "shell.execute_reply": "2023-06-23T12:20:56.938868Z"
    },
    "papermill": {
     "duration": 0.042512,
     "end_time": "2023-06-23T12:20:56.941836",
     "exception": false,
     "start_time": "2023-06-23T12:20:56.899324",
     "status": "completed"
    },
    "tags": []
   },
   "outputs": [
    {
     "data": {
      "text/plain": [
       "34737    Приключения Шерлока Холмса и доктора Ватсона: ...\n",
       "14821                                    The Royal Scandal\n",
       "34750    The Adventures of Sherlock Holmes and Doctor W...\n",
       "9743                           The Seven-Per-Cent Solution\n",
       "4434                                        Without a Clue\n",
       "29706                       How Sherlock Changed the World\n",
       "18258                   Sherlock Holmes: A Game of Shadows\n",
       "24665     The Sign of Four: Sherlock Holmes' Greatest Case\n",
       "6432                   The Private Life of Sherlock Holmes\n",
       "29154                          Sherlock Holmes in New York\n",
       "Name: title, dtype: object"
      ]
     },
     "execution_count": 29,
     "metadata": {},
     "output_type": "execute_result"
    }
   ],
   "source": [
    "content_based_recommender(\"Sherlock Holmes\", cosine_sim, df)"
   ]
  },
  {
   "cell_type": "code",
   "execution_count": 30,
   "id": "62751392",
   "metadata": {
    "execution": {
     "iopub.execute_input": "2023-06-23T12:20:56.971179Z",
     "iopub.status.busy": "2023-06-23T12:20:56.970342Z",
     "iopub.status.idle": "2023-06-23T12:20:56.994421Z",
     "shell.execute_reply": "2023-06-23T12:20:56.993467Z"
    },
    "papermill": {
     "duration": 0.040896,
     "end_time": "2023-06-23T12:20:56.996599",
     "exception": false,
     "start_time": "2023-06-23T12:20:56.955703",
     "status": "completed"
    },
    "tags": []
   },
   "outputs": [
    {
     "data": {
      "text/plain": [
       "44161                        A Detective Story\n",
       "44167                              Kid's Story\n",
       "44163                             World Record\n",
       "33854                                Algorithm\n",
       "167                                    Hackers\n",
       "20707    Underground: The Julian Assange Story\n",
       "6515                                  Commando\n",
       "24202                                 Who Am I\n",
       "22085                           Berlin Express\n",
       "9159                                  Takedown\n",
       "Name: title, dtype: object"
      ]
     },
     "execution_count": 30,
     "metadata": {},
     "output_type": "execute_result"
    }
   ],
   "source": [
    "content_based_recommender(\"The Matrix\", cosine_sim, df)"
   ]
  },
  {
   "cell_type": "code",
   "execution_count": 31,
   "id": "b0f01f29",
   "metadata": {
    "execution": {
     "iopub.execute_input": "2023-06-23T12:20:57.026326Z",
     "iopub.status.busy": "2023-06-23T12:20:57.025974Z",
     "iopub.status.idle": "2023-06-23T12:20:57.051450Z",
     "shell.execute_reply": "2023-06-23T12:20:57.050565Z"
    },
    "papermill": {
     "duration": 0.042781,
     "end_time": "2023-06-23T12:20:57.053595",
     "exception": false,
     "start_time": "2023-06-23T12:20:57.010814",
     "status": "completed"
    },
    "tags": []
   },
   "outputs": [
    {
     "data": {
      "text/plain": [
       "1178               The Godfather: Part II\n",
       "44030    The Godfather Trilogy: 1972-1990\n",
       "1914              The Godfather: Part III\n",
       "23126                          Blood Ties\n",
       "11297                    Household Saints\n",
       "34717                   Start Liquidation\n",
       "10821                            Election\n",
       "38030            A Mother Should Be Loved\n",
       "17729                   Short Sharp Shock\n",
       "26293                  Beck 28 - Familjen\n",
       "Name: title, dtype: object"
      ]
     },
     "execution_count": 31,
     "metadata": {},
     "output_type": "execute_result"
    }
   ],
   "source": [
    "content_based_recommender(\"The Godfather\", cosine_sim, df)"
   ]
  },
  {
   "cell_type": "code",
   "execution_count": 32,
   "id": "82aed966",
   "metadata": {
    "execution": {
     "iopub.execute_input": "2023-06-23T12:20:57.084214Z",
     "iopub.status.busy": "2023-06-23T12:20:57.083537Z",
     "iopub.status.idle": "2023-06-23T12:20:57.108611Z",
     "shell.execute_reply": "2023-06-23T12:20:57.107590Z"
    },
    "papermill": {
     "duration": 0.042886,
     "end_time": "2023-06-23T12:20:57.110895",
     "exception": false,
     "start_time": "2023-06-23T12:20:57.068009",
     "status": "completed"
    },
    "tags": []
   },
   "outputs": [
    {
     "data": {
      "text/plain": [
       "12481                                      The Dark Knight\n",
       "150                                         Batman Forever\n",
       "1328                                        Batman Returns\n",
       "15511                           Batman: Under the Red Hood\n",
       "585                                                 Batman\n",
       "21194    Batman Unmasked: The Psychology of the Dark Kn...\n",
       "9230                    Batman Beyond: Return of the Joker\n",
       "18035                                     Batman: Year One\n",
       "19792              Batman: The Dark Knight Returns, Part 1\n",
       "3095                          Batman: Mask of the Phantasm\n",
       "Name: title, dtype: object"
      ]
     },
     "execution_count": 32,
     "metadata": {},
     "output_type": "execute_result"
    }
   ],
   "source": [
    "content_based_recommender('The Dark Knight Rises', cosine_sim, df)"
   ]
  },
  {
   "cell_type": "code",
   "execution_count": 33,
   "id": "bf31fdd0",
   "metadata": {
    "execution": {
     "iopub.execute_input": "2023-06-23T12:20:57.142660Z",
     "iopub.status.busy": "2023-06-23T12:20:57.142015Z",
     "iopub.status.idle": "2023-06-23T12:20:57.147689Z",
     "shell.execute_reply": "2023-06-23T12:20:57.146998Z"
    },
    "papermill": {
     "duration": 0.023348,
     "end_time": "2023-06-23T12:20:57.149541",
     "exception": false,
     "start_time": "2023-06-23T12:20:57.126193",
     "status": "completed"
    },
    "tags": []
   },
   "outputs": [],
   "source": [
    "def calculate_cosine_sim(dataframe):\n",
    "    tfidf = TfidfVectorizer(stop_words='english')\n",
    "    dataframe['overview'] = dataframe['overview'].fillna('')\n",
    "    tfidf_matrix = tfidf.fit_transform(dataframe['overview'])\n",
    "    cosine_sim = cosine_similarity(tfidf_matrix, tfidf_matrix)\n",
    "    return cosine_sim"
   ]
  },
  {
   "cell_type": "code",
   "execution_count": 34,
   "id": "e5186041",
   "metadata": {
    "execution": {
     "iopub.execute_input": "2023-06-23T12:20:57.180614Z",
     "iopub.status.busy": "2023-06-23T12:20:57.179979Z",
     "iopub.status.idle": "2023-06-23T12:20:57.183343Z",
     "shell.execute_reply": "2023-06-23T12:20:57.182735Z"
    },
    "papermill": {
     "duration": 0.020725,
     "end_time": "2023-06-23T12:20:57.185161",
     "exception": false,
     "start_time": "2023-06-23T12:20:57.164436",
     "status": "completed"
    },
    "tags": []
   },
   "outputs": [],
   "source": [
    "#cosine_sim = calculate_cosine_sim(df)\n",
    "#content_based_recommender('The Dark Knight Rises', cosine_sim, df"
   ]
  }
 ],
 "metadata": {
  "kernelspec": {
   "display_name": "Python 3",
   "language": "python",
   "name": "python3"
  },
  "language_info": {
   "codemirror_mode": {
    "name": "ipython",
    "version": 3
   },
   "file_extension": ".py",
   "mimetype": "text/x-python",
   "name": "python",
   "nbconvert_exporter": "python",
   "pygments_lexer": "ipython3",
   "version": "3.10.10"
  },
  "papermill": {
   "default_parameters": {},
   "duration": 66.70265,
   "end_time": "2023-06-23T12:20:59.423705",
   "environment_variables": {},
   "exception": null,
   "input_path": "__notebook__.ipynb",
   "output_path": "__notebook__.ipynb",
   "parameters": {},
   "start_time": "2023-06-23T12:19:52.721055",
   "version": "2.4.0"
  }
 },
 "nbformat": 4,
 "nbformat_minor": 5
}
